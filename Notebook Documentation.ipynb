{
 "cells": [
  {
   "cell_type": "markdown",
   "metadata": {},
   "source": [
    "# Capstone Webscrapping using BeautifulSoup\n",
    "\n",
    "This is a capstone project by Algoritma Data Science school. This notebook explains Web Scrapping about US dollar to Indonesian Rupiah exchange rate using beautifulsoup. "
   ]
  },
  {
   "cell_type": "code",
   "execution_count": 2,
   "metadata": {
    "scrolled": false
   },
   "outputs": [
    {
     "data": {
      "text/html": [
       "<img src=\"https://i.pinimg.com/originals/b4/30/9a/b4309afefb9ebd854a1d75ad508a8098.jpg\"/>"
      ],
      "text/plain": [
       "<IPython.core.display.Image object>"
      ]
     },
     "execution_count": 2,
     "metadata": {},
     "output_type": "execute_result"
    }
   ],
   "source": [
    "from IPython.display import Image\n",
    "Image(url=\"https://i.pinimg.com/originals/b4/30/9a/b4309afefb9ebd854a1d75ad508a8098.jpg\")"
   ]
  },
  {
   "cell_type": "markdown",
   "metadata": {},
   "source": [
    "## Requesting the Data and Creating a BeautifulSoup\n",
    "\n",
    "Let's begin with requesting the web from the site with `get` method."
   ]
  },
  {
   "cell_type": "code",
   "execution_count": 3,
   "metadata": {
    "ExecuteTime": {
     "end_time": "2020-01-13T05:12:23.275508Z",
     "start_time": "2020-01-13T05:12:20.009898Z"
    }
   },
   "outputs": [],
   "source": [
    "import requests\n",
    "url_get = requests.get('https://www.exchange-rates.org/history/IDR/USD/T')"
   ]
  },
  {
   "cell_type": "markdown",
   "metadata": {},
   "source": [
    "To visualize what exactly you get from the `request.get`, we can use .content so ee what we exactly get, in here i slice it so it won't make our screen full of the html we get from the page. You can delete the slicing if you want to see what we fully get."
   ]
  },
  {
   "cell_type": "code",
   "execution_count": 4,
   "metadata": {
    "ExecuteTime": {
     "end_time": "2020-01-13T05:12:23.290648Z",
     "start_time": "2020-01-13T05:12:23.277650Z"
    }
   },
   "outputs": [
    {
     "data": {
      "text/plain": [
       "b'!DOCTYPE html>\\r\\n<!--[if lt IE 9]>\\r\\n<html class=\"no-js ie8 oldie\" lang=\"en\" xml:lang=\\'en\\'>\\r\\n<![endif]-->\\r\\n<!--[if gt IE 8]><!--><html class=\"no-js\" lang=\"en\" xml:lang=\\'en\\'><!--<![endif]-->\\r\\n<head>\\r\\n<title>USD to IDR exchange rate history</title>\\r\\n<meta http-equiv=\"X-UA-Compatible\" content=\"IE=edge\">\\r\\n<meta name=\"viewport\" content=\"width=device-width, initial-scale=1, maximum-scale=5\">\\r\\n<meta charset=\"utf-8\" /><meta http-equiv=\"Content-Type\" content=\"text/html; charset=utf-8\" />\\r\\n<base href=\"http'"
      ]
     },
     "execution_count": 4,
     "metadata": {},
     "output_type": "execute_result"
    }
   ],
   "source": [
    "url_get.content[1:500]"
   ]
  },
  {
   "cell_type": "markdown",
   "metadata": {},
   "source": [
    "As we can see we get a very unstructured and complex html, which actually contains the codes needed to show the webpages on your web browser. But we as human still confused what and where we can use that piece of code, so here where we use the beautifulsoup. Beautiful soup class will result a beautifulsoup object. Beautiful Soup transforms a complex HTML document into a complex tree of Python objects. \n",
    "\n",
    "Let's make Beautiful soup object and feel free to explore the object here."
   ]
  },
  {
   "cell_type": "code",
   "execution_count": 5,
   "metadata": {
    "ExecuteTime": {
     "end_time": "2020-01-13T05:12:23.808122Z",
     "start_time": "2020-01-13T05:12:23.292610Z"
    }
   },
   "outputs": [],
   "source": [
    "from bs4 import BeautifulSoup \n",
    "\n",
    "soup = BeautifulSoup(url_get.content,\"html.parser\")"
   ]
  },
  {
   "cell_type": "markdown",
   "metadata": {},
   "source": [
    "## Finding the right key to scrap the data & Extracting the right information"
   ]
  },
  {
   "cell_type": "code",
   "execution_count": 6,
   "metadata": {
    "ExecuteTime": {
     "end_time": "2020-01-13T05:12:23.878904Z",
     "start_time": "2020-01-13T05:12:23.854974Z"
    },
    "scrolled": true
   },
   "outputs": [
    {
     "name": "stdout",
     "output_type": "stream",
     "text": [
      "tbody>\n",
      " <tr>\n",
      "  <td>\n",
      "   <a class=\"w\" href=\"/exchange-rate-history/usd-idr-2023-04-12\">\n",
      "    April 12, 2023\n",
      "   </a>\n",
      "   <a class=\"n\" href=\"/exchange-rate-history/usd-idr-2023-04-12\">\n",
      "    2023-4-12\n",
      "   </a>\n",
      "  </td>\n",
      "  <td>\n",
      "   <span class=\"w\">\n",
      "    <span class=\"nowrap\">\n",
      "     <span class=\"currencySymbol\">\n",
      "      $\n",
      "     </span>\n",
      "     1 =\n",
      "    </span>\n",
      "    <span class=\"nowrap\">\n",
      "     <span class=\"currencySymbol\">\n",
      "      Rp\n",
      "     </span>\n",
      "     14,835\n",
      "    </span>\n",
      "   </span>\n",
      "   <span class=\"n\">\n",
      "    <span class=\"nowra\n"
     ]
    }
   ],
   "source": [
    "table = soup.find('tbody')\n",
    "print(table.prettify()[1:500])"
   ]
  },
  {
   "cell_type": "markdown",
   "metadata": {},
   "source": [
    "Finding row length."
   ]
  },
  {
   "cell_type": "code",
   "execution_count": 7,
   "metadata": {},
   "outputs": [
    {
     "data": {
      "text/plain": [
       "129"
      ]
     },
     "execution_count": 7,
     "metadata": {},
     "output_type": "execute_result"
    }
   ],
   "source": [
    "row_length = len(table.find_all('a', attrs={'class':'n'}))\n",
    "row_length"
   ]
  },
  {
   "cell_type": "markdown",
   "metadata": {},
   "source": [
    "Table is likely a BeautifulSoup object representing an HTML table. The code is then finding all a tags within the table that have a class of n and all span tags within the table that have a class of w. It is then iterating through the range 0 to row_length (exclusive) and using the index i to extract the text of the a and span tags at that index."
   ]
  },
  {
   "cell_type": "code",
   "execution_count": 8,
   "metadata": {
    "ExecuteTime": {
     "end_time": "2020-01-13T05:12:24.008256Z",
     "start_time": "2020-01-13T05:12:23.980358Z"
    }
   },
   "outputs": [
    {
     "data": {
      "text/plain": [
       "[('2023-4-12', '$1 = Rp14,835'),\n",
       " ('2023-4-11', '$1 = Rp14,915'),\n",
       " ('2023-4-10', '$1 = Rp14,950'),\n",
       " ('2023-4-7', '$1 = Rp14,941'),\n",
       " ('2023-4-6', '$1 = Rp14,931'),\n",
       " ('2023-4-5', '$1 = Rp14,960'),\n",
       " ('2023-4-4', '$1 = Rp14,957'),\n",
       " ('2023-4-3', '$1 = Rp14,922'),\n",
       " ('2023-3-31', '$1 = Rp14,969'),\n",
       " ('2023-3-30', '$1 = Rp15,024'),\n",
       " ('2023-3-29', '$1 = Rp15,034'),\n",
       " ('2023-3-28', '$1 = Rp15,060'),\n",
       " ('2023-3-27', '$1 = Rp15,107'),\n",
       " ('2023-3-24', '$1 = Rp15,165'),\n",
       " ('2023-3-23', '$1 = Rp15,085'),\n",
       " ('2023-3-22', '$1 = Rp15,253'),\n",
       " ('2023-3-21', '$1 = Rp15,301'),\n",
       " ('2023-3-20', '$1 = Rp15,343'),\n",
       " ('2023-3-17', '$1 = Rp15,375'),\n",
       " ('2023-3-16', '$1 = Rp15,429'),\n",
       " ('2023-3-15', '$1 = Rp15,459'),\n",
       " ('2023-3-14', '$1 = Rp15,380'),\n",
       " ('2023-3-13', '$1 = Rp15,416'),\n",
       " ('2023-3-10', '$1 = Rp15,503'),\n",
       " ('2023-3-9', '$1 = Rp15,495'),\n",
       " ('2023-3-8', '$1 = Rp15,449'),\n",
       " ('2023-3-7', '$1 = Rp15,429'),\n",
       " ('2023-3-6', '$1 = Rp15,354'),\n",
       " ('2023-3-3', '$1 = Rp15,278'),\n",
       " ('2023-3-2', '$1 = Rp15,322'),\n",
       " ('2023-3-1', '$1 = Rp15,249'),\n",
       " ('2023-2-28', '$1 = Rp15,241'),\n",
       " ('2023-2-27', '$1 = Rp15,216'),\n",
       " ('2023-2-24', '$1 = Rp15,265'),\n",
       " ('2023-2-23', '$1 = Rp15,211'),\n",
       " ('2023-2-22', '$1 = Rp15,197'),\n",
       " ('2023-2-21', '$1 = Rp15,235'),\n",
       " ('2023-2-20', '$1 = Rp15,168'),\n",
       " ('2023-2-17', '$1 = Rp15,166'),\n",
       " ('2023-2-16', '$1 = Rp15,144'),\n",
       " ('2023-2-15', '$1 = Rp15,205'),\n",
       " ('2023-2-14', '$1 = Rp15,186'),\n",
       " ('2023-2-13', '$1 = Rp15,216'),\n",
       " ('2023-2-10', '$1 = Rp15,188'),\n",
       " ('2023-2-9', '$1 = Rp15,147'),\n",
       " ('2023-2-8', '$1 = Rp15,133'),\n",
       " ('2023-2-7', '$1 = Rp15,154'),\n",
       " ('2023-2-6', '$1 = Rp15,198'),\n",
       " ('2023-2-3', '$1 = Rp15,095'),\n",
       " ('2023-2-2', '$1 = Rp14,907'),\n",
       " ('2023-2-1', '$1 = Rp14,896'),\n",
       " ('2023-1-31', '$1 = Rp15,002'),\n",
       " ('2023-1-30', '$1 = Rp15,013'),\n",
       " ('2023-1-27', '$1 = Rp14,973'),\n",
       " ('2023-1-26', '$1 = Rp14,955'),\n",
       " ('2023-1-25', '$1 = Rp14,940'),\n",
       " ('2023-1-24', '$1 = Rp14,956'),\n",
       " ('2023-1-23', '$1 = Rp15,026'),\n",
       " ('2023-1-20', '$1 = Rp15,063'),\n",
       " ('2023-1-19', '$1 = Rp15,154'),\n",
       " ('2023-1-18', '$1 = Rp15,138'),\n",
       " ('2023-1-17', '$1 = Rp15,180'),\n",
       " ('2023-1-16', '$1 = Rp15,126'),\n",
       " ('2023-1-13', '$1 = Rp15,115'),\n",
       " ('2023-1-12', '$1 = Rp15,206'),\n",
       " ('2023-1-11', '$1 = Rp15,432'),\n",
       " ('2023-1-10', '$1 = Rp15,536'),\n",
       " ('2023-1-9', '$1 = Rp15,596'),\n",
       " ('2023-1-6', '$1 = Rp15,607'),\n",
       " ('2023-1-5', '$1 = Rp15,635'),\n",
       " ('2023-1-4', '$1 = Rp15,582'),\n",
       " ('2023-1-3', '$1 = Rp15,594'),\n",
       " ('2023-1-2', '$1 = Rp15,554'),\n",
       " ('2022-12-30', '$1 = Rp15,534'),\n",
       " ('2022-12-29', '$1 = Rp15,627'),\n",
       " ('2022-12-28', '$1 = Rp15,789'),\n",
       " ('2022-12-27', '$1 = Rp15,620'),\n",
       " ('2022-12-26', '$1 = Rp15,621'),\n",
       " ('2022-12-23', '$1 = Rp15,582'),\n",
       " ('2022-12-22', '$1 = Rp15,574'),\n",
       " ('2022-12-21', '$1 = Rp15,540'),\n",
       " ('2022-12-20', '$1 = Rp15,564'),\n",
       " ('2022-12-19', '$1 = Rp15,568'),\n",
       " ('2022-12-16', '$1 = Rp15,616'),\n",
       " ('2022-12-15', '$1 = Rp15,629'),\n",
       " ('2022-12-14', '$1 = Rp15,543'),\n",
       " ('2022-12-13', '$1 = Rp15,560'),\n",
       " ('2022-12-12', '$1 = Rp15,676'),\n",
       " ('2022-12-9', '$1 = Rp15,604'),\n",
       " ('2022-12-8', '$1 = Rp15,594'),\n",
       " ('2022-12-7', '$1 = Rp15,612'),\n",
       " ('2022-12-6', '$1 = Rp15,625'),\n",
       " ('2022-12-5', '$1 = Rp15,520'),\n",
       " ('2022-12-2', '$1 = Rp15,376'),\n",
       " ('2022-12-1', '$1 = Rp15,389'),\n",
       " ('2022-11-30', '$1 = Rp15,633'),\n",
       " ('2022-11-29', '$1 = Rp15,734'),\n",
       " ('2022-11-28', '$1 = Rp15,743'),\n",
       " ('2022-11-25', '$1 = Rp15,693'),\n",
       " ('2022-11-24', '$1 = Rp15,647'),\n",
       " ('2022-11-23', '$1 = Rp15,626'),\n",
       " ('2022-11-22', '$1 = Rp15,664'),\n",
       " ('2022-11-21', '$1 = Rp15,741'),\n",
       " ('2022-11-18', '$1 = Rp15,641'),\n",
       " ('2022-11-17', '$1 = Rp15,714'),\n",
       " ('2022-11-16', '$1 = Rp15,639'),\n",
       " ('2022-11-15', '$1 = Rp15,557'),\n",
       " ('2022-11-14', '$1 = Rp15,554'),\n",
       " ('2022-11-11', '$1 = Rp15,474'),\n",
       " ('2022-11-10', '$1 = Rp15,520'),\n",
       " ('2022-11-9', '$1 = Rp15,692'),\n",
       " ('2022-11-8', '$1 = Rp15,638'),\n",
       " ('2022-11-7', '$1 = Rp15,685'),\n",
       " ('2022-11-4', '$1 = Rp15,615'),\n",
       " ('2022-11-3', '$1 = Rp15,790'),\n",
       " ('2022-11-2', '$1 = Rp15,685'),\n",
       " ('2022-11-1', '$1 = Rp15,674'),\n",
       " ('2022-10-31', '$1 = Rp15,624'),\n",
       " ('2022-10-28', '$1 = Rp15,557'),\n",
       " ('2022-10-27', '$1 = Rp15,560'),\n",
       " ('2022-10-26', '$1 = Rp15,503'),\n",
       " ('2022-10-25', '$1 = Rp15,533'),\n",
       " ('2022-10-24', '$1 = Rp15,598'),\n",
       " ('2022-10-21', '$1 = Rp15,537'),\n",
       " ('2022-10-20', '$1 = Rp15,562'),\n",
       " ('2022-10-19', '$1 = Rp15,587'),\n",
       " ('2022-10-18', '$1 = Rp15,474'),\n",
       " ('2022-10-17', '$1 = Rp15,441'),\n",
       " ('2022-10-14', '$1 = Rp15,472')]"
      ]
     },
     "execution_count": 8,
     "metadata": {},
     "output_type": "execute_result"
    }
   ],
   "source": [
    "temp = [(table.find_all('a', attrs={'class':'n'})[i].text, \n",
    "         table.find_all('span', attrs={'class':'w'})[i].text.strip())\n",
    "        for i in range(row_length)]\n",
    "temp"
   ]
  },
  {
   "cell_type": "markdown",
   "metadata": {},
   "source": [
    "## Creating data frame & Data wrangling"
   ]
  },
  {
   "cell_type": "markdown",
   "metadata": {},
   "source": [
    "Put the array into dataframe"
   ]
  },
  {
   "cell_type": "code",
   "execution_count": 9,
   "metadata": {
    "ExecuteTime": {
     "end_time": "2020-01-13T05:12:41.517372Z",
     "start_time": "2020-01-13T05:12:29.130015Z"
    }
   },
   "outputs": [
    {
     "data": {
      "text/html": [
       "<div>\n",
       "<style scoped>\n",
       "    .dataframe tbody tr th:only-of-type {\n",
       "        vertical-align: middle;\n",
       "    }\n",
       "\n",
       "    .dataframe tbody tr th {\n",
       "        vertical-align: top;\n",
       "    }\n",
       "\n",
       "    .dataframe thead th {\n",
       "        text-align: right;\n",
       "    }\n",
       "</style>\n",
       "<table border=\"1\" class=\"dataframe\">\n",
       "  <thead>\n",
       "    <tr style=\"text-align: right;\">\n",
       "      <th></th>\n",
       "      <th>Date</th>\n",
       "      <th>Kurs</th>\n",
       "    </tr>\n",
       "  </thead>\n",
       "  <tbody>\n",
       "    <tr>\n",
       "      <th>0</th>\n",
       "      <td>2023-4-12</td>\n",
       "      <td>$1 = Rp14,835</td>\n",
       "    </tr>\n",
       "    <tr>\n",
       "      <th>1</th>\n",
       "      <td>2023-4-11</td>\n",
       "      <td>$1 = Rp14,915</td>\n",
       "    </tr>\n",
       "    <tr>\n",
       "      <th>2</th>\n",
       "      <td>2023-4-10</td>\n",
       "      <td>$1 = Rp14,950</td>\n",
       "    </tr>\n",
       "    <tr>\n",
       "      <th>3</th>\n",
       "      <td>2023-4-7</td>\n",
       "      <td>$1 = Rp14,941</td>\n",
       "    </tr>\n",
       "    <tr>\n",
       "      <th>4</th>\n",
       "      <td>2023-4-6</td>\n",
       "      <td>$1 = Rp14,931</td>\n",
       "    </tr>\n",
       "  </tbody>\n",
       "</table>\n",
       "</div>"
      ],
      "text/plain": [
       "        Date           Kurs\n",
       "0  2023-4-12  $1 = Rp14,835\n",
       "1  2023-4-11  $1 = Rp14,915\n",
       "2  2023-4-10  $1 = Rp14,950\n",
       "3   2023-4-7  $1 = Rp14,941\n",
       "4   2023-4-6  $1 = Rp14,931"
      ]
     },
     "execution_count": 9,
     "metadata": {},
     "output_type": "execute_result"
    }
   ],
   "source": [
    "import pandas as pd\n",
    "\n",
    "df = pd.DataFrame(temp, columns = ('Date', 'Kurs'))\n",
    "df.head()"
   ]
  },
  {
   "cell_type": "markdown",
   "metadata": {},
   "source": [
    "Do the data cleaning here (please change this markdown with your explanation of what you do for data wrangling)"
   ]
  },
  {
   "cell_type": "code",
   "execution_count": 10,
   "metadata": {},
   "outputs": [
    {
     "data": {
      "text/plain": [
       "Date    object\n",
       "Kurs    object\n",
       "dtype: object"
      ]
     },
     "execution_count": 10,
     "metadata": {},
     "output_type": "execute_result"
    }
   ],
   "source": [
    "df.dtypes"
   ]
  },
  {
   "cell_type": "code",
   "execution_count": 11,
   "metadata": {
    "ExecuteTime": {
     "end_time": "2020-01-13T05:12:59.165559Z",
     "start_time": "2020-01-13T05:12:58.910012Z"
    },
    "scrolled": true
   },
   "outputs": [
    {
     "data": {
      "text/html": [
       "<div>\n",
       "<style scoped>\n",
       "    .dataframe tbody tr th:only-of-type {\n",
       "        vertical-align: middle;\n",
       "    }\n",
       "\n",
       "    .dataframe tbody tr th {\n",
       "        vertical-align: top;\n",
       "    }\n",
       "\n",
       "    .dataframe thead th {\n",
       "        text-align: right;\n",
       "    }\n",
       "</style>\n",
       "<table border=\"1\" class=\"dataframe\">\n",
       "  <thead>\n",
       "    <tr style=\"text-align: right;\">\n",
       "      <th></th>\n",
       "      <th>Date</th>\n",
       "      <th>Kurs</th>\n",
       "    </tr>\n",
       "  </thead>\n",
       "  <tbody>\n",
       "    <tr>\n",
       "      <th>0</th>\n",
       "      <td>2023-4-12</td>\n",
       "      <td>14835</td>\n",
       "    </tr>\n",
       "    <tr>\n",
       "      <th>1</th>\n",
       "      <td>2023-4-11</td>\n",
       "      <td>14915</td>\n",
       "    </tr>\n",
       "    <tr>\n",
       "      <th>2</th>\n",
       "      <td>2023-4-10</td>\n",
       "      <td>14950</td>\n",
       "    </tr>\n",
       "    <tr>\n",
       "      <th>3</th>\n",
       "      <td>2023-4-7</td>\n",
       "      <td>14941</td>\n",
       "    </tr>\n",
       "    <tr>\n",
       "      <th>4</th>\n",
       "      <td>2023-4-6</td>\n",
       "      <td>14931</td>\n",
       "    </tr>\n",
       "  </tbody>\n",
       "</table>\n",
       "</div>"
      ],
      "text/plain": [
       "        Date    Kurs\n",
       "0  2023-4-12   14835\n",
       "1  2023-4-11   14915\n",
       "2  2023-4-10   14950\n",
       "3   2023-4-7   14941\n",
       "4   2023-4-6   14931"
      ]
     },
     "execution_count": 11,
     "metadata": {},
     "output_type": "execute_result"
    }
   ],
   "source": [
    "df['Kurs'] = df['Kurs'].str.replace(r'\\$|1 =|Rp|,', '', regex=True)\n",
    "df.head()"
   ]
  },
  {
   "cell_type": "code",
   "execution_count": 12,
   "metadata": {},
   "outputs": [
    {
     "data": {
      "text/plain": [
       "Date    datetime64[ns]\n",
       "Kurs           float64\n",
       "dtype: object"
      ]
     },
     "execution_count": 12,
     "metadata": {},
     "output_type": "execute_result"
    }
   ],
   "source": [
    "df = df.astype({'Date': 'datetime64[ns]', 'Kurs': 'float'})\n",
    "df.dtypes"
   ]
  },
  {
   "cell_type": "markdown",
   "metadata": {},
   "source": [
    "The set_index method of a DataFrame allows you to specify which column should be used as the new index. In this case, the column named 'Date' is passed as the argument to set_index."
   ]
  },
  {
   "cell_type": "code",
   "execution_count": 13,
   "metadata": {},
   "outputs": [],
   "source": [
    "df = df.set_index('Date')"
   ]
  },
  {
   "cell_type": "markdown",
   "metadata": {},
   "source": [
    "### Implementing your webscrapping to the flask dashboard\n",
    "\n",
    "- Copy paste all of your web scrapping process to the desired position on the `app.py`\n",
    "- Changing the title of the dasboard at `index.html`"
   ]
  },
  {
   "cell_type": "markdown",
   "metadata": {},
   "source": [
    "## Finishing This Notebook with Your Analysis and Conclusion\n",
    "\n",
    "First you can do start with making the data visualisation. "
   ]
  },
  {
   "cell_type": "code",
   "execution_count": 14,
   "metadata": {
    "ExecuteTime": {
     "end_time": "2020-01-13T05:20:56.208237Z",
     "start_time": "2020-01-13T05:20:56.076043Z"
    }
   },
   "outputs": [
    {
     "data": {
      "text/plain": [
       "<Axes: xlabel='Date'>"
      ]
     },
     "execution_count": 14,
     "metadata": {},
     "output_type": "execute_result"
    },
    {
     "data": {
      "image/png": "[encoded data removed]",
      "text/plain": [
       "<Figure size 640x480 with 1 Axes>"
      ]
     },
     "metadata": {},
     "output_type": "display_data"
    }
   ],
   "source": [
    "df.plot()"
   ]
  },
  {
   "cell_type": "markdown",
   "metadata": {},
   "source": [
    "The graph shows that from September 2022 to April 2023, there is a negative relationship between the date and the amount of Rupiah relative to the dollar. This means that the Rupiah consistently weakened compared to the dollar over the course of one semester."
   ]
  },
  {
   "cell_type": "markdown",
   "metadata": {},
   "source": [
    "### Implement it at the webapps\n",
    "\n",
    "- You can create additional analysis from the data.\n",
    "- Implement it to the dashboard with at `app.py` dan `index.html`."
   ]
  }
 ],
 "metadata": {
  "kernelspec": {
   "display_name": "Python 3 (ipykernel)",
   "language": "python",
   "name": "python3"
  },
  "language_info": {
   "codemirror_mode": {
    "name": "ipython",
    "version": 3
   },
   "file_extension": ".py",
   "mimetype": "text/x-python",
   "name": "python",
   "nbconvert_exporter": "python",
   "pygments_lexer": "ipython3",
   "version": "3.11.2"
  }
 },
 "nbformat": 4,
 "nbformat_minor": 2
}
